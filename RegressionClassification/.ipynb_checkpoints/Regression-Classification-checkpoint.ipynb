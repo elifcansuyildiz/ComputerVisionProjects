{
 "cells": [
  {
   "cell_type": "markdown",
   "metadata": {},
   "source": [
    "# Linear Regression and Classification"
   ]
  },
  {
   "cell_type": "code",
   "execution_count": 1,
   "metadata": {
    "ExecuteTime": {
     "end_time": "2021-11-13T20:07:16.678461Z",
     "start_time": "2021-11-13T20:07:16.098532Z"
    }
   },
   "outputs": [],
   "source": [
    "import numpy as np\n",
    "import utils\n",
    "import regression\n",
    "import classification"
   ]
  },
  {
   "cell_type": "markdown",
   "metadata": {},
   "source": [
    "**Data for Regression Tasks**"
   ]
  },
  {
   "cell_type": "code",
   "execution_count": 2,
   "metadata": {
    "ExecuteTime": {
     "end_time": "2021-11-13T20:07:16.857841Z",
     "start_time": "2021-11-13T20:07:16.680828Z"
    }
   },
   "outputs": [
    {
     "name": "stdout",
     "output_type": "stream",
     "text": [
      "X_tr.shape:  (603, 511)\n",
      "Y_tr.shape:  (603, 2)\n",
      "X_te.shape:  (100, 511)\n",
      "Y_te.shape:  (100, 2)\n"
     ]
    }
   ],
   "source": [
    "Y_tr, X_tr = utils.read_data_reg('data/regression_train.txt')\n",
    "Y_te, X_te = utils.read_data_reg('data/regression_test.txt')\n",
    "\n",
    "print(\"X_tr.shape: \", X_tr.shape)\n",
    "print(\"Y_tr.shape: \", Y_tr.shape)\n",
    "print(\"X_te.shape: \", X_te.shape)\n",
    "print(\"Y_te.shape: \", Y_te.shape)"
   ]
  },
  {
   "cell_type": "markdown",
   "metadata": {},
   "source": [
    "Note: The given data include bias values. If another data will be used, use `add_bias` function in the `utils.py`."
   ]
  },
  {
   "cell_type": "markdown",
   "metadata": {},
   "source": [
    "## Linear Regression\n",
    "\n",
    "X.shape = (num_samples, 1+num_features)  \n",
    "Y.shape = (num_samples, target_dims)\n",
    "\n",
    "$\n",
    "w = (X^TX)^{-1}XY\n",
    "$  \n",
    "\n",
    "w = regression coefficients  \n",
    "w.shape = (1+num_features, target_dims)\n",
    "\n",
    "$ pred = X w $"
   ]
  },
  {
   "cell_type": "code",
   "execution_count": 3,
   "metadata": {
    "ExecuteTime": {
     "end_time": "2021-11-13T20:07:16.952190Z",
     "start_time": "2021-11-13T20:07:16.859321Z"
    }
   },
   "outputs": [
    {
     "name": "stdout",
     "output_type": "stream",
     "text": [
      "MSE/Var Linear Regression\n",
      "Error:  [0.1024556  0.00339751]\n"
     ]
    }
   ],
   "source": [
    "regression.run_lin_reg(X_tr, Y_tr, X_te, Y_te)"
   ]
  },
  {
   "cell_type": "markdown",
   "metadata": {},
   "source": [
    "## Non-Linear Regression\n",
    "X.shape = (num_samples, 1+num_features)  \n",
    "Y.shape = (num_samples, target_dims)\n",
    "\n",
    "Z = RBF embeddings of X \n",
    "\n",
    "The formulas below are the same as linear regression\n",
    "$\n",
    "w = (Z^TZ)^{-1}ZY\n",
    "$  \n",
    "\n",
    "$ pred = Z w $\n",
    "\n",
    "Note: The same formulas are used for both training and validation."
   ]
  },
  {
   "cell_type": "code",
   "execution_count": 4,
   "metadata": {
    "ExecuteTime": {
     "end_time": "2021-11-13T20:07:16.958478Z",
     "start_time": "2021-11-13T20:07:16.953703Z"
    }
   },
   "outputs": [
    {
     "name": "stdout",
     "output_type": "stream",
     "text": [
      "X_tr.shape: (301, 511)\n",
      "Y_tr.shape:(301, 2)\n",
      "X_tr.shape: (302, 511)\n",
      "Y_tr.shape:(302, 2)\n",
      "X_te.shape: (100, 511)\n",
      "Y_te.shape:(100, 2)\n"
     ]
    }
   ],
   "source": [
    "num_training = X_tr.shape[0]//2\n",
    "\n",
    "Y_val, X_val = Y_tr[num_training:], X_tr[num_training:]\n",
    "Y_tr, X_tr = Y_tr[:num_training], X_tr[:num_training]\n",
    "\n",
    "print(\"X_tr.shape: {}\\nY_tr.shape:{}\".format(X_tr.shape, Y_tr.shape))\n",
    "print(\"X_tr.shape: {}\\nY_tr.shape:{}\".format(X_val.shape, Y_val.shape))\n",
    "print(\"X_te.shape: {}\\nY_te.shape:{}\".format(X_te.shape, Y_te.shape))"
   ]
  },
  {
   "cell_type": "code",
   "execution_count": 5,
   "metadata": {
    "ExecuteTime": {
     "end_time": "2021-11-13T20:07:25.594560Z",
     "start_time": "2021-11-13T20:07:16.960231Z"
    },
    "scrolled": true
   },
   "outputs": [
    {
     "name": "stdout",
     "output_type": "stream",
     "text": [
      "MSE/Var Non Linear Regression on Validation Data for different sigma values and number of clusters\n",
      "For sigma=0.0041, num_clusters=10 Error:  [0.60878345 7.03231276]\n",
      "For sigma=0.0123, num_clusters=10 Error:  [0.46601358 6.47805877]\n",
      "For sigma=0.0370, num_clusters=10 Error:  [0.41014846 5.96774755]\n",
      "For sigma=0.1111, num_clusters=10 Error:  [0.48503971 5.15527272]\n",
      "For sigma=0.3333, num_clusters=10 Error:  [0.50187344 4.67832201]\n",
      "For sigma=1.0000, num_clusters=10 Error:  [0.47988652 6.31654481]\n",
      "For sigma=3.0000, num_clusters=10 Error:  [0.49927225 4.52388661]\n",
      "For sigma=9.0000, num_clusters=10 Error:  [0.48722716 4.87144258]\n",
      "For sigma=0.0041, num_clusters=30 Error:  [0.51604472 3.69910509]\n",
      "For sigma=0.0123, num_clusters=30 Error:  [0.57131571 4.26693892]\n",
      "For sigma=0.0370, num_clusters=30 Error:  [0.85487821 2.83535103]\n",
      "For sigma=0.1111, num_clusters=30 Error:  [1.45454122 2.86804177]\n",
      "For sigma=0.3333, num_clusters=30 Error:  [1.63369645 2.88787627]\n",
      "For sigma=1.0000, num_clusters=30 Error:  [2.27645642 2.49779223]\n",
      "For sigma=3.0000, num_clusters=30 Error:  [1.62313408 2.95268175]\n",
      "For sigma=9.0000, num_clusters=30 Error:  [3.18157639 2.84377195]\n",
      "For sigma=0.0041, num_clusters=100 Error:  [0.51804704 4.88650318]\n",
      "For sigma=0.0123, num_clusters=100 Error:  [0.52568326 3.68485105]\n",
      "For sigma=0.0370, num_clusters=100 Error:  [0.63884253 3.2653908 ]\n",
      "For sigma=0.1111, num_clusters=100 Error:  [0.87656057 3.00610077]\n",
      "For sigma=0.3333, num_clusters=100 Error:  [1.03888298 2.27132281]\n",
      "For sigma=1.0000, num_clusters=100 Error:  [1.42704894 2.20368457]\n",
      "For sigma=3.0000, num_clusters=100 Error:  [1.77261027 2.74601337]\n",
      "For sigma=9.0000, num_clusters=100 Error:  [3.23343878 3.08522924]\n",
      "min err index:  [ 2 21]\n",
      "\n",
      "Note: Training two seperate models for different dimensions of Y\n",
      "MSE/Var Non Linear Regression on test data for sigma=0.0370, num_clusters=10 error: 0.3840966002544714\n",
      "MSE/Var Non Linear Regression on test data for sigma=1.0000, num_clusters=100 error: 0.3348186763095064\n"
     ]
    }
   ],
   "source": [
    "regression.run_non_lin_reg(X_tr, Y_tr, X_val, Y_val, X_te, Y_te)"
   ]
  },
  {
   "cell_type": "markdown",
   "metadata": {},
   "source": [
    "## Dual Regression\n",
    "\n",
    "For training:  \n",
    "Z = RBF_kernel_trick(X_tr, X_tr, sigma)  \n",
    "$ \\phi = Z^{-1}Y$\n",
    "\n",
    "For validation:  \n",
    "Z_val = RBF_kernel_trick(X_val, X_tr, sigma)  \n",
    "\n",
    "$pred = Z_{val} \\phi$"
   ]
  },
  {
   "cell_type": "code",
   "execution_count": 6,
   "metadata": {
    "ExecuteTime": {
     "end_time": "2021-11-13T20:07:29.636127Z",
     "start_time": "2021-11-13T20:07:25.596018Z"
    },
    "scrolled": true
   },
   "outputs": [
    {
     "name": "stdout",
     "output_type": "stream",
     "text": [
      "MSE/Var Dual Regression on Validation Data for different sigma values\n",
      "sigma= 0.0041 Error: [ 3.96659874 25.70445535]\n",
      "sigma= 0.0123 Error: [ 3.68403239 24.33636387]\n",
      "sigma= 0.0370 Error: [ 1.54635515 11.57758844]\n",
      "sigma= 0.1111 Error: [0.73870702 3.27654158]\n",
      "sigma= 0.3333 Error: [0.93267681 2.00091945]\n",
      "sigma= 1.0000 Error: [1.14681151 1.8651744 ]\n",
      "sigma= 3.0000 Error: [5.4739206  4.22485852]\n",
      "sigma= 9.0000 Error: [33.82790566 16.73391732]\n",
      "\n",
      "Note: Training two seperate models for different dimensions of Y\n",
      "MSE/Var dual regression for test sigma=[0.11111111 1.        ]\n",
      "Error:  [0.70517997 0.38274981]\n"
     ]
    }
   ],
   "source": [
    "regression.run_dual_reg(X_tr, Y_tr, X_val, Y_val, X_te, Y_te)"
   ]
  },
  {
   "cell_type": "markdown",
   "metadata": {},
   "source": [
    "## Classification"
   ]
  },
  {
   "cell_type": "markdown",
   "metadata": {},
   "source": [
    "**Data for Classification Task**"
   ]
  },
  {
   "cell_type": "code",
   "execution_count": 7,
   "metadata": {
    "ExecuteTime": {
     "end_time": "2021-11-13T20:07:29.711370Z",
     "start_time": "2021-11-13T20:07:29.641879Z"
    }
   },
   "outputs": [
    {
     "name": "stdout",
     "output_type": "stream",
     "text": [
      "X_tr.shape: (77, 511) \n",
      "Y_tr.shape: (77, 1) \n",
      "X_te.shape: (20, 511)\n",
      "Y_te.shape: (20, 1)\n"
     ]
    }
   ],
   "source": [
    "Y_tr, X_tr = utils.read_data_cls(\"train\")\n",
    "Y_te, X_te = utils.read_data_cls(\"test\")\n",
    "Y_tr = Y_tr.reshape(-1,1)\n",
    "Y_te = Y_te.reshape(-1,1)\n",
    "\n",
    "print(\"X_tr.shape: {} \\nY_tr.shape: {} \\nX_te.shape: {}\\nY_te.shape: {}\".format(X_tr.shape, Y_tr.shape, X_te.shape, Y_te.shape))"
   ]
  },
  {
   "cell_type": "code",
   "execution_count": 8,
   "metadata": {
    "ExecuteTime": {
     "end_time": "2021-11-13T20:07:30.309969Z",
     "start_time": "2021-11-13T20:07:29.714381Z"
    }
   },
   "outputs": [
    {
     "name": "stdout",
     "output_type": "stream",
     "text": [
      "optimization method: Gradient descent\n",
      "classification with step size 0.1\n",
      "step=0 loss=[0.69267167] accuracy=0.5194805194805194\n",
      "step=1000 loss=[0.48100358] accuracy=0.8441558441558441\n",
      "step=2000 loss=[0.4005303] accuracy=0.9090909090909091\n",
      "step=3000 loss=[0.35302444] accuracy=0.922077922077922\n",
      "step=4000 loss=[0.32008682] accuracy=0.948051948051948\n",
      "step=5000 loss=[0.2953319] accuracy=0.948051948051948\n",
      "step=6000 loss=[0.2757691] accuracy=0.961038961038961\n",
      "step=7000 loss=[0.25975404] accuracy=0.961038961038961\n",
      "step=8000 loss=[0.24629111] accuracy=0.961038961038961\n",
      "step=9000 loss=[0.2347372] accuracy=0.974025974025974\n",
      "test set loss=[0.41390753] accuracy=0.75\n",
      "\n",
      "optimization method: Newton's method\n",
      "\n",
      "classification with step size 0.1\n",
      "step=0 loss=[0.69184932] accuracy=1.0\n",
      "step=1 loss=[0.69055483] accuracy=1.0\n",
      "test set loss=[0.6915703] accuracy=0.75\n"
     ]
    }
   ],
   "source": [
    "print(\"optimization method: Gradient descent\")\n",
    "classification.run_classification(X_tr, Y_tr, X_te, Y_te, step_size=0.1, optim_method=\"grad_desc\", max_iter=10000)\n",
    "\n",
    "print(\"\\noptimization method: Newton's method\\n\")\n",
    "classification.run_classification(X_tr, Y_tr, X_te, Y_te, step_size=0.1, optim_method=\"newtons_method\",                                             max_iter=2)"
   ]
  }
 ],
 "metadata": {
  "kernelspec": {
   "display_name": "PyTorch 1.8.1 CustomBuild + OpenCV 4.5.1",
   "language": "python",
   "name": "pytorch"
  },
  "language_info": {
   "codemirror_mode": {
    "name": "ipython",
    "version": 3
   },
   "file_extension": ".py",
   "mimetype": "text/x-python",
   "name": "python",
   "nbconvert_exporter": "python",
   "pygments_lexer": "ipython3",
   "version": "3.8.8"
  },
  "toc": {
   "base_numbering": 1,
   "nav_menu": {},
   "number_sections": true,
   "sideBar": true,
   "skip_h1_title": false,
   "title_cell": "Table of Contents",
   "title_sidebar": "Contents",
   "toc_cell": false,
   "toc_position": {},
   "toc_section_display": true,
   "toc_window_display": false
  }
 },
 "nbformat": 4,
 "nbformat_minor": 4
}
